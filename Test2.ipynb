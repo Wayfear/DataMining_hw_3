{
 "cells": [
  {
   "cell_type": "code",
   "execution_count": 28,
   "metadata": {},
   "outputs": [
    {
     "name": "stdout",
     "output_type": "stream",
     "text": [
      "123454567\n",
      "1234567890\n",
      "[[[0, 1, 2, 3, 4, 6, 8, 9, 10, 12, 13, 14, 15, 16, 18]], [[1031, 540, 1100, 243, 181, 412], [540, 202, 1100, 243, 181, 412], [1031, 202, 1100, 207, 243, 181, 540]]]\n",
      "2\n"
     ]
    }
   ],
   "source": [
    "import pandas as pd\n",
    "import numpy as np\n",
    "\n",
    "data = pd.read_csv(\"LTE/new4gtrain.csv\")\n",
    "test_data = pd.read_csv(\"LTE/new4gtest.csv\")\n",
    "\n",
    "# data = pd.read_csv(\"GSM/new2gtrain.csv\")\n",
    "# test_data = pd.read_csv(\"GSM/new2gtest.csv\")\n",
    "\n",
    "train_select_column = data.iloc[:,[0,1,47]]\n",
    "test_select_column = test_data.iloc[:,[0,1,47]]\n",
    "\n",
    "all_data = train_select_column.append(test_select_column)\n",
    "result = all_data.groupby(all_data[\"IMSI\"])\n",
    "\n",
    "transactions = []\n",
    "\n",
    "for name,group in all_data.groupby(\"IMSI\"):\n",
    "    count = 0\n",
    "    temp = []\n",
    "    print name \n",
    "    for name, g in group.groupby(\"MRTime\"):\n",
    "        in_data = list(set(g[\"GridID\"]))\n",
    "        if len(in_data)>20:\n",
    "            temp.append(in_data[:15])\n",
    "        else:\n",
    "            temp.append(in_data)\n",
    "        \n",
    "        count+=len(in_data)\n",
    "        if count>15:\n",
    "            break\n",
    "    transactions.append(temp)\n",
    "print transactions\n",
    "print len(transactions)\n",
    "\n",
    "\n"
   ]
  },
  {
   "cell_type": "code",
   "execution_count": 31,
   "metadata": {
    "collapsed": true
   },
   "outputs": [],
   "source": [
    "file_name = \"4gdata\"\n",
    "\n",
    "with open(file_name+\".txt\", \"w\") as f:\n",
    "    for data in transactions:\n",
    "        for da in data:\n",
    "            for d in da:\n",
    "                f.write(str(d) + \" \")\n",
    "            f.write(\"-1 \")\n",
    "        f.write(\"-2\\n\")\n",
    "\n",
    "    "
   ]
  },
  {
   "cell_type": "code",
   "execution_count": null,
   "metadata": {
    "collapsed": true
   },
   "outputs": [],
   "source": []
  }
 ],
 "metadata": {
  "kernelspec": {
   "display_name": "Python 2",
   "language": "python",
   "name": "python2"
  },
  "language_info": {
   "codemirror_mode": {
    "name": "ipython",
    "version": 2
   },
   "file_extension": ".py",
   "mimetype": "text/x-python",
   "name": "python",
   "nbconvert_exporter": "python",
   "pygments_lexer": "ipython2",
   "version": "2.7.13"
  }
 },
 "nbformat": 4,
 "nbformat_minor": 2
}
