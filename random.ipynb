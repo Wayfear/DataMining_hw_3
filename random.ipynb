{
 "cells": [
  {
   "cell_type": "code",
   "execution_count": 276,
   "metadata": {
    "collapsed": true
   },
   "outputs": [],
   "source": [
    "%matplotlib inline"
   ]
  },
  {
   "cell_type": "code",
   "execution_count": 277,
   "metadata": {},
   "outputs": [],
   "source": [
    "# 4g回归最优\n",
    "# train_select_column = data.iloc[:,[2,3,13,14,15,16,17,18,23]]\n",
    "# test_select_column = test_data.iloc[:,[2,3,13,14,15,16,17,18,23]]\n",
    "# print train_select_column"
   ]
  },
  {
   "cell_type": "code",
   "execution_count": 278,
   "metadata": {},
   "outputs": [],
   "source": [
    "# 4g分类最优\n",
    "# train_select_column = data.iloc[:,[2,3,13,14,15,16,17,18,23,24,26]]\n",
    "# test_select_column = test_data.iloc[:,[2,3,13,14,15,16,17,18,23,24,26]]\n",
    "# print train_select_column\n",
    "\n",
    "# 2G最优2,3,14,17,18,20,23,24,26"
   ]
  },
  {
   "cell_type": "code",
   "execution_count": 279,
   "metadata": {
    "collapsed": true
   },
   "outputs": [],
   "source": [
    "# data = pd.read_csv(\"LTE/new4gtrain.csv\")\n",
    "# test_data = pd.read_csv(\"LTE/new4gtest.csv\")"
   ]
  },
  {
   "cell_type": "code",
   "execution_count": 280,
   "metadata": {
    "collapsed": true
   },
   "outputs": [],
   "source": [
    "import pandas as pd\n",
    "import numpy as np\n",
    "import matplotlib.pyplot as plt\n",
    "from sklearn.ensemble import RandomForestClassifier,RandomForestRegressor\n",
    "from sklearn.model_selection import cross_val_score\n",
    "from sklearn.cross_validation import train_test_split  \n",
    "from math import radians, cos, sin, asin, sqrt\n",
    "\n",
    "\n",
    "def haversine(row): # 经度1，纬度1，经度2，纬度2 （十进制度数）  \n",
    "    # 将十进制度数转化为弧度  \n",
    "    lon1, lat1, lon2, lat2 = map(radians, [row[0], row[1], row[2], row[3]])  \n",
    " \n",
    "    dlon = lon2 - lon1   \n",
    "    dlat = lat2 - lat1   \n",
    "    a = sin(dlat/2)**2 + cos(lat1) * cos(lat2) * sin(dlon/2)**2  \n",
    "    c = 2 * asin(sqrt(a))   \n",
    "    r = 6371 # 地球平均半径，单位为公里  \n",
    "    return c * r * 1000  \n",
    "\n",
    "data = pd.read_csv(\"GSM/new2gtrain.csv\")\n",
    "test_data = pd.read_csv(\"GSM/new2gtest.csv\")"
   ]
  },
  {
   "cell_type": "code",
   "execution_count": 281,
   "metadata": {},
   "outputs": [
    {
     "name": "stdout",
     "output_type": "stream",
     "text": [
      "       SRNCID  BestCellID  RSCP_1  RNCID_2  CellID_2  RSCP_2  RNCID_3  \\\n",
      "0        6290       49714     -62     6155     57939     -70     -999   \n",
      "1        6290       49714     -62     6155     57939     -70     -999   \n",
      "2        6290       49714     -61     6155     57939     -70     6301   \n",
      "3        6290       49714     -61     6155     57939     -70     6301   \n",
      "4        6290       49714     -61     6155     57939     -70     6301   \n",
      "5        6290       49714     -61     6155     57939     -70     6301   \n",
      "6        6290       49714     -61     6155     57939     -70     6301   \n",
      "7        6290       49714     -59     6155     57939     -70     6301   \n",
      "8        6290       49714     -59     6155     57939     -70     6301   \n",
      "9        6290       49714     -59     6155     57939     -70     6301   \n",
      "10       6290       49714     -59     6155     57939     -70     6301   \n",
      "11       6290       49714     -59     6155     57939     -70     6301   \n",
      "12       6290       49714     -59     6155     57939     -70     6301   \n",
      "13       6290       49714     -59     6155     57939     -70     6301   \n",
      "14       6290       49714     -59     6155     57939     -70     6301   \n",
      "15       6290       49714     -58     6155     57939     -72     -999   \n",
      "16       6290       49714     -58     6155     57939     -72     -999   \n",
      "17       6290       49714     -58     6155     57939     -72     -999   \n",
      "18       6290       49714     -58     6155     57939     -72     -999   \n",
      "19       6290       49714     -58     6155     57939     -72     -999   \n",
      "20       6290       49714     -58     6155     57939     -72     -999   \n",
      "21       6290       49714     -58     6155     57939     -72     -999   \n",
      "22       6290       49714     -58     6155     57939     -72     -999   \n",
      "23       6290       49714     -58     6155     57939     -72     -999   \n",
      "24       6290       49714     -57     6155     57939     -70     6301   \n",
      "25       6290       49714     -57     6155     57939     -70     6301   \n",
      "26       6290       49714     -57     6155     57939     -70     6301   \n",
      "27       6290       49714     -57     6155     57939     -70     6301   \n",
      "28       6290       49714     -57     6155     57939     -70     6301   \n",
      "29       6290       49714     -57     6155     57939     -70     6301   \n",
      "...       ...         ...     ...      ...       ...     ...      ...   \n",
      "95911    6290       49714     -58     6155     57939     -62     -999   \n",
      "95912    6290       49714     -56     6155     57939     -63     -999   \n",
      "95913    6290       49714     -56     6155     57939     -63     -999   \n",
      "95914    6290       49714     -56     6155     57939     -63     -999   \n",
      "95915    6290       49714     -56     6155     57939     -63     -999   \n",
      "95916    6290       49714     -56     6155     57939     -63     -999   \n",
      "95917    6290       49714     -56     6155     57939     -63     -999   \n",
      "95918    6290       49714     -56     6155     57939     -63     -999   \n",
      "95919    6290       49714     -56     6155     57939     -63     -999   \n",
      "95920    6290       49714     -56     6155     57939     -63     -999   \n",
      "95921    6290       49714     -55     6155     57939     -71     -999   \n",
      "95922    6290       49714     -55     6155     57939     -71     -999   \n",
      "95923    6290       49714     -55     6155     57939     -71     -999   \n",
      "95924    6290       49714     -55     6155     57939     -71     -999   \n",
      "95925    6290       49714     -55     6155     57939     -71     -999   \n",
      "95926    6290       49714     -55     6155     57939     -71     -999   \n",
      "95927    6290       49714     -55     6155     57939     -71     -999   \n",
      "95928    6290       49714     -55     6155     57939     -71     -999   \n",
      "95929    6290       49714     -55     6155     57939     -71     -999   \n",
      "95930    6290       49714     -54     -999      -999    -999     -999   \n",
      "95931    6290       49714     -54     -999      -999    -999     -999   \n",
      "95932    6290       49714     -54     -999      -999    -999     -999   \n",
      "95933    6290       49714     -54     -999      -999    -999     -999   \n",
      "95934    6290       49714     -54     -999      -999    -999     -999   \n",
      "95935    6290       49714     -54     -999      -999    -999     -999   \n",
      "95936    6290       49714     -54     -999      -999    -999     -999   \n",
      "95937    6290       49714     -52     6155     57939     -70     -999   \n",
      "95938    6290       49714     -52     6155     57939     -70     -999   \n",
      "95939    6290       49714     -52     6155     57939     -70     -999   \n",
      "95940    6290       49714     -52     6155     57939     -70     -999   \n",
      "\n",
      "       CellID_3  RSCP_3  \n",
      "0          -999    -999  \n",
      "1          -999    -999  \n",
      "2         58001     -71  \n",
      "3         58001     -71  \n",
      "4         58001     -71  \n",
      "5         58001     -71  \n",
      "6         58001     -71  \n",
      "7         58001     -71  \n",
      "8         58001     -71  \n",
      "9         58001     -71  \n",
      "10        58001     -71  \n",
      "11        58001     -71  \n",
      "12        58001     -71  \n",
      "13        58001     -71  \n",
      "14        58001     -71  \n",
      "15         -999    -999  \n",
      "16         -999    -999  \n",
      "17         -999    -999  \n",
      "18         -999    -999  \n",
      "19         -999    -999  \n",
      "20         -999    -999  \n",
      "21         -999    -999  \n",
      "22         -999    -999  \n",
      "23         -999    -999  \n",
      "24        58001     -74  \n",
      "25        58001     -74  \n",
      "26        58001     -74  \n",
      "27        58001     -74  \n",
      "28        58001     -74  \n",
      "29        58001     -74  \n",
      "...         ...     ...  \n",
      "95911      -999    -999  \n",
      "95912      -999    -999  \n",
      "95913      -999    -999  \n",
      "95914      -999    -999  \n",
      "95915      -999    -999  \n",
      "95916      -999    -999  \n",
      "95917      -999    -999  \n",
      "95918      -999    -999  \n",
      "95919      -999    -999  \n",
      "95920      -999    -999  \n",
      "95921      -999    -999  \n",
      "95922      -999    -999  \n",
      "95923      -999    -999  \n",
      "95924      -999    -999  \n",
      "95925      -999    -999  \n",
      "95926      -999    -999  \n",
      "95927      -999    -999  \n",
      "95928      -999    -999  \n",
      "95929      -999    -999  \n",
      "95930      -999    -999  \n",
      "95931      -999    -999  \n",
      "95932      -999    -999  \n",
      "95933      -999    -999  \n",
      "95934      -999    -999  \n",
      "95935      -999    -999  \n",
      "95936      -999    -999  \n",
      "95937      -999    -999  \n",
      "95938      -999    -999  \n",
      "95939      -999    -999  \n",
      "95940      -999    -999  \n",
      "\n",
      "[95941 rows x 9 columns]\n"
     ]
    }
   ],
   "source": [
    "# 2g分类最优\n",
    "train_select_column = data.iloc[:,[2,3,14,17,18,20,23,24,26]]\n",
    "test_select_column = test_data.iloc[:,[2,3,14,17,18,20,23,24,26]]\n",
    "print train_select_column"
   ]
  },
  {
   "cell_type": "markdown",
   "metadata": {},
   "source": [
    "注意选择有价值特征\n",
    "改变树的数量意义不大"
   ]
  },
  {
   "cell_type": "code",
   "execution_count": 282,
   "metadata": {
    "scrolled": true
   },
   "outputs": [],
   "source": [
    "\n",
    "all_select_column = train_select_column.append(test_select_column)\n",
    "# result_data = data[\"RSCP_1\"].append(test_data[\"RSCP_1\"])\n",
    "# all_select_column[\"RSCP_1\"] = result_data\n",
    "features = len(all_select_column.columns)"
   ]
  },
  {
   "cell_type": "code",
   "execution_count": 283,
   "metadata": {
    "collapsed": true,
    "scrolled": false
   },
   "outputs": [],
   "source": [
    "train_result_column = data.iloc[:,47]\n",
    "test_result_column = test_data.iloc[:,47]\n",
    "all_result_column = train_result_column.append(test_result_column)"
   ]
  },
  {
   "cell_type": "code",
   "execution_count": 284,
   "metadata": {},
   "outputs": [],
   "source": [
    "train_regressor_result_column = data.iloc[:,[9,10]]\n",
    "test_regressor_result_column = test_data.iloc[:,[9,10]]\n",
    "all_regressor_result_column = train_regressor_result_column.append(test_regressor_result_column)\n",
    "clr = RandomForestRegressor(max_features = int(sqrt(features)))"
   ]
  },
  {
   "cell_type": "code",
   "execution_count": 285,
   "metadata": {
    "scrolled": true
   },
   "outputs": [
    {
     "data": {
      "image/png": "[encoded data removed]",
      "text/plain": [
       "<matplotlib.figure.Figure at 0x21a4df28>"
      ]
     },
     "metadata": {},
     "output_type": "display_data"
    }
   ],
   "source": [
    "x_draw = range(1,11)\n",
    "y_draw = []\n",
    "for i in x_draw:\n",
    "    train_X, test_X, train_Y, test_Y = train_test_split(all_select_column, all_regressor_result_column, test_size=0.2)\n",
    "    clr.fit(train_X, train_Y)\n",
    "    regressor_result = clr.predict(test_X)\n",
    "    clr.score(test_X, test_Y)\n",
    "    x = [p[0] for p in regressor_result.tolist()]\n",
    "    y = [p[1] for p in regressor_result.tolist()]\n",
    "    test_Y.insert(2, \"Pre_lon\", x)\n",
    "    test_Y.insert(3, \"Pre_lat\", y)\n",
    "    res = test_Y.apply(haversine, axis=1)\n",
    "    y_draw.append(res.mean())\n",
    "plt.plot(x_draw, y_draw, 'b')\n",
    "plt.grid()\n",
    "plt.savefig(\"result.png\")"
   ]
  },
  {
   "cell_type": "markdown",
   "metadata": {},
   "source": [
    "画图要求不明\n",
    "\n",
    "数据要混合 因为结果不混合"
   ]
  },
  {
   "cell_type": "code",
   "execution_count": 286,
   "metadata": {},
   "outputs": [
    {
     "data": {
      "text/plain": [
       "0.31478532555698752"
      ]
     },
     "execution_count": 286,
     "metadata": {},
     "output_type": "execute_result"
    }
   ],
   "source": [
    "clf = RandomForestClassifier(max_features = int(sqrt(features)))\n",
    "scores = cross_val_score(clf, all_select_column, all_result_column)\n",
    "scores.mean()"
   ]
  },
  {
   "cell_type": "code",
   "execution_count": 287,
   "metadata": {
    "collapsed": true
   },
   "outputs": [],
   "source": [
    "train_X, test_X, train_Y, test_Y = train_test_split(all_select_column, all_result_column, test_size=0.2)"
   ]
  },
  {
   "cell_type": "code",
   "execution_count": 288,
   "metadata": {},
   "outputs": [
    {
     "data": {
      "text/plain": [
       "0.66891015745600491"
      ]
     },
     "execution_count": 288,
     "metadata": {},
     "output_type": "execute_result"
    }
   ],
   "source": [
    "clf.fit(train_X, train_Y)\n",
    "clf.score(test_X, test_Y)"
   ]
  },
  {
   "cell_type": "code",
   "execution_count": 289,
   "metadata": {
    "collapsed": true
   },
   "outputs": [],
   "source": [
    "# start = 10\n",
    "# end = 10\n",
    "# rang = 10\n",
    "# x = range(start,end, rang)\n",
    "# y = []\n",
    "# for num in x:\n",
    "#     clf = RandomForestClassifier(n_estimators=num)\n",
    "#     scores = cross_val_score(clf, train_select_column, train_result_column)\n",
    "#     y.append(scores.mean())\n",
    "# plt.plot(x, y, 'b')\n",
    "# plt.grid()"
   ]
  },
  {
   "cell_type": "code",
   "execution_count": null,
   "metadata": {
    "collapsed": true
   },
   "outputs": [],
   "source": []
  },
  {
   "cell_type": "code",
   "execution_count": 290,
   "metadata": {
    "collapsed": true
   },
   "outputs": [],
   "source": [
    "clf = clf.fit(train_select_column, train_result_column)"
   ]
  },
  {
   "cell_type": "code",
   "execution_count": 291,
   "metadata": {},
   "outputs": [
    {
     "data": {
      "text/plain": [
       "0.31478532555698752"
      ]
     },
     "execution_count": 291,
     "metadata": {},
     "output_type": "execute_result"
    }
   ],
   "source": [
    "scores.mean()"
   ]
  }
 ],
 "metadata": {
  "kernelspec": {
   "display_name": "Python 2",
   "language": "python",
   "name": "python2"
  },
  "language_info": {
   "codemirror_mode": {
    "name": "ipython",
    "version": 2
   },
   "file_extension": ".py",
   "mimetype": "text/x-python",
   "name": "python",
   "nbconvert_exporter": "python",
   "pygments_lexer": "ipython2",
   "version": "2.7.13"
  }
 },
 "nbformat": 4,
 "nbformat_minor": 1
}
